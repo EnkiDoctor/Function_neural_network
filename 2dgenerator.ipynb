{
 "cells": [
  {
   "cell_type": "code",
   "execution_count": 1,
   "metadata": {},
   "outputs": [],
   "source": [
    "import pandas as pd \n",
    "import numpy as np \n",
    "import matplotlib.pyplot as plt \n",
    "from scipy.stats import ortho_group"
   ]
  },
  {
   "cell_type": "code",
   "execution_count": 2,
   "metadata": {},
   "outputs": [],
   "source": [
    "matrix = np.random.RandomState(123456789).rand(10,256,256)\n",
    "comb =  np.random.RandomState(123456789).rand(10000,10)"
   ]
  },
  {
   "cell_type": "code",
   "execution_count": 3,
   "metadata": {},
   "outputs": [
    {
     "data": {
      "text/plain": [
       "array([[0.53283302, 0.5341366 , 0.50955304, ..., 0.15489908, 0.67054644,\n",
       "        0.64344516],\n",
       "       [0.72362717, 0.7487252 , 0.81854739, ..., 0.35354171, 0.18528148,\n",
       "        0.7927684 ],\n",
       "       [0.61217203, 0.89942913, 0.31536778, ..., 0.25224168, 0.56515579,\n",
       "        0.13333688],\n",
       "       ...,\n",
       "       [0.33214227, 0.27639121, 0.52447971, ..., 0.67928114, 0.27108755,\n",
       "        0.23060077],\n",
       "       [0.71805391, 0.20448878, 0.95603189, ..., 0.05330103, 0.98196663,\n",
       "        0.63831838],\n",
       "       [0.45112037, 0.05629618, 0.24405565, ..., 0.4978411 , 0.43789754,\n",
       "        0.29670089]])"
      ]
     },
     "execution_count": 3,
     "metadata": {},
     "output_type": "execute_result"
    }
   ],
   "source": [
    "comb"
   ]
  },
  {
   "cell_type": "code",
   "execution_count": 4,
   "metadata": {},
   "outputs": [],
   "source": [
    "data = (matrix.T @ comb.T).T"
   ]
  },
  {
   "cell_type": "code",
   "execution_count": 5,
   "metadata": {},
   "outputs": [],
   "source": [
    "label = comb[:,0] + comb[:,1]**2 -3*comb[:,2]**3 - comb[:,3]*comb[:,4]*(comb[:,6]**3) + 10*comb[:,6]**5 -20*comb[:,7]*comb[:,8]*comb[:,9]"
   ]
  },
  {
   "cell_type": "code",
   "execution_count": 7,
   "metadata": {},
   "outputs": [],
   "source": [
    "label = label *10 "
   ]
  },
  {
   "cell_type": "code",
   "execution_count": 8,
   "metadata": {},
   "outputs": [
    {
     "data": {
      "text/plain": [
       "array([ 43.52606322, -13.99713994,   9.49569717, ...,  -7.8036471 ,\n",
       "       -25.3031973 ,  -5.26887027])"
      ]
     },
     "execution_count": 8,
     "metadata": {},
     "output_type": "execute_result"
    }
   ],
   "source": [
    "label "
   ]
  },
  {
   "cell_type": "code",
   "execution_count": 9,
   "metadata": {},
   "outputs": [],
   "source": [
    "np.save(\"2ddata.npy\",data)\n",
    "np.save(\"2dlabel.npy\",label)"
   ]
  },
  {
   "cell_type": "code",
   "execution_count": null,
   "metadata": {},
   "outputs": [],
   "source": []
  },
  {
   "cell_type": "code",
   "execution_count": null,
   "metadata": {},
   "outputs": [],
   "source": []
  },
  {
   "cell_type": "code",
   "execution_count": null,
   "metadata": {},
   "outputs": [],
   "source": []
  }
 ],
 "metadata": {
  "interpreter": {
   "hash": "b09ec625f77bf4fd762565a912b97636504ad6ec901eb2d0f4cf5a7de23e1ee5"
  },
  "kernelspec": {
   "display_name": "Python 3.9.7 ('base')",
   "language": "python",
   "name": "python3"
  },
  "language_info": {
   "codemirror_mode": {
    "name": "ipython",
    "version": 3
   },
   "file_extension": ".py",
   "mimetype": "text/x-python",
   "name": "python",
   "nbconvert_exporter": "python",
   "pygments_lexer": "ipython3",
   "version": "3.9.7"
  },
  "orig_nbformat": 4
 },
 "nbformat": 4,
 "nbformat_minor": 2
}
