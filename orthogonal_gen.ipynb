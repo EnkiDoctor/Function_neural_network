{
 "cells": [
  {
   "cell_type": "code",
   "execution_count": 1,
   "metadata": {},
   "outputs": [],
   "source": [
    "import pandas as pd \n",
    "import numpy as np \n",
    "import matplotlib.pyplot as plt \n",
    "from scipy.stats import ortho_group"
   ]
  },
  {
   "cell_type": "code",
   "execution_count": 2,
   "metadata": {},
   "outputs": [],
   "source": [
    "d = 16\n",
    "seed = 1\n",
    "size = 2\n",
    "a, b = np.float32(ortho_group.rvs(size=size, dim=d, random_state=seed))  # 生成一个随机16*16正交矩阵，可以改变随机数seed种子更改"
   ]
  },
  {
   "cell_type": "code",
   "execution_count": 3,
   "metadata": {},
   "outputs": [
    {
     "data": {
      "text/plain": [
       "array([[ 0.33575377,  0.43329155,  0.24143682, -0.2660712 ,  0.04576025,\n",
       "         0.16139346, -0.04778346, -0.18954928, -0.30891657,  0.27911475,\n",
       "        -0.24736853, -0.34801942, -0.3000195 ,  0.17227027,  0.16828583,\n",
       "        -0.02088279],\n",
       "       [-0.12645064,  0.02099939, -0.30562544,  0.04577005, -0.05411398,\n",
       "         0.25931713, -0.37818864,  0.16842304, -0.06155179,  0.11445536,\n",
       "        -0.32817397, -0.16838738,  0.46830863, -0.19863822,  0.43594766,\n",
       "        -0.21151644],\n",
       "       [-0.10917361,  0.28032652,  0.01775413,  0.22409584,  0.04557591,\n",
       "         0.1688271 ,  0.24962476, -0.3612034 , -0.5061129 , -0.00924787,\n",
       "         0.14013588,  0.18903157,  0.29504102, -0.3905146 , -0.04072028,\n",
       "         0.28772914]], dtype=float32)"
      ]
     },
     "execution_count": 3,
     "metadata": {},
     "output_type": "execute_result"
    }
   ],
   "source": [
    "matrix = a[[0,1,2]]\n",
    "matrix                  # matrix为正交矩阵前三行"
   ]
  },
  {
   "cell_type": "code",
   "execution_count": 4,
   "metadata": {},
   "outputs": [
    {
     "data": {
      "text/plain": [
       "array([[5.32833025, 5.34136601, 5.09553036],\n",
       "       [7.13564032, 2.56998955, 7.52693609],\n",
       "       [8.83879184, 1.54899083, 6.70546438],\n",
       "       ...,\n",
       "       [8.53396931, 1.11147291, 3.89342635],\n",
       "       [4.12107057, 9.79348953, 8.70269822],\n",
       "       [4.00564021, 6.5708399 , 3.31918883]])"
      ]
     },
     "execution_count": 4,
     "metadata": {},
     "output_type": "execute_result"
    }
   ],
   "source": [
    "comb = np.random.RandomState(123456789).rand(10000,3)*10\n",
    "comb  "
   ]
  },
  {
   "cell_type": "code",
   "execution_count": 5,
   "metadata": {},
   "outputs": [
    {
     "data": {
      "text/plain": [
       "array([[ 0.55729035,  1.24909851,  2.03972703, ...,  2.29970648,\n",
       "        -0.80483306,  0.15165404],\n",
       "       [ 3.84929822,  5.25578068,  5.74202119, ...,  4.81246773,\n",
       "         4.43087949,  2.80405037],\n",
       "       [-0.2555355 ,  1.07098634,  1.7796485 , ...,  1.78984444,\n",
       "        -1.84365252, -0.98217747],\n",
       "       ...,\n",
       "       [-2.13296559, -2.22061799, -1.40360956, ..., -0.2710717 ,\n",
       "        -4.63395417, -1.91135894],\n",
       "       [ 3.01774704,  2.01470911,  1.88967394, ...,  1.76214871,\n",
       "         4.60859026,  3.40347644],\n",
       "       [ 0.22507547,  1.47311177,  1.41714188, ...,  0.70694436,\n",
       "         0.34647642, -0.51846224]])"
      ]
     },
     "execution_count": 5,
     "metadata": {},
     "output_type": "execute_result"
    }
   ],
   "source": [
    "data = matrix.T @ comb.T \n",
    "data "
   ]
  },
  {
   "cell_type": "code",
   "execution_count": 6,
   "metadata": {},
   "outputs": [
    {
     "data": {
      "text/html": [
       "<div>\n",
       "<style scoped>\n",
       "    .dataframe tbody tr th:only-of-type {\n",
       "        vertical-align: middle;\n",
       "    }\n",
       "\n",
       "    .dataframe tbody tr th {\n",
       "        vertical-align: top;\n",
       "    }\n",
       "\n",
       "    .dataframe thead th {\n",
       "        text-align: right;\n",
       "    }\n",
       "</style>\n",
       "<table border=\"1\" class=\"dataframe\">\n",
       "  <thead>\n",
       "    <tr style=\"text-align: right;\">\n",
       "      <th></th>\n",
       "      <th>0</th>\n",
       "      <th>1</th>\n",
       "      <th>2</th>\n",
       "      <th>3</th>\n",
       "      <th>4</th>\n",
       "      <th>5</th>\n",
       "      <th>6</th>\n",
       "      <th>7</th>\n",
       "      <th>8</th>\n",
       "      <th>9</th>\n",
       "      <th>10</th>\n",
       "      <th>11</th>\n",
       "      <th>12</th>\n",
       "      <th>13</th>\n",
       "      <th>14</th>\n",
       "      <th>15</th>\n",
       "    </tr>\n",
       "  </thead>\n",
       "  <tbody>\n",
       "    <tr>\n",
       "      <th>0</th>\n",
       "      <td>0.557290</td>\n",
       "      <td>3.849298</td>\n",
       "      <td>-0.255535</td>\n",
       "      <td>-0.031354</td>\n",
       "      <td>0.187017</td>\n",
       "      <td>3.105329</td>\n",
       "      <td>-1.002679</td>\n",
       "      <td>-1.950895</td>\n",
       "      <td>-4.553694</td>\n",
       "      <td>2.051441</td>\n",
       "      <td>-2.356892</td>\n",
       "      <td>-1.790565</td>\n",
       "      <td>2.406195</td>\n",
       "      <td>-2.132966</td>\n",
       "      <td>3.017747</td>\n",
       "      <td>0.225075</td>\n",
       "    </tr>\n",
       "    <tr>\n",
       "      <th>1</th>\n",
       "      <td>1.249099</td>\n",
       "      <td>5.255781</td>\n",
       "      <td>1.070986</td>\n",
       "      <td>-0.094205</td>\n",
       "      <td>0.530503</td>\n",
       "      <td>3.088839</td>\n",
       "      <td>0.566003</td>\n",
       "      <td>-3.638465</td>\n",
       "      <td>-6.171984</td>\n",
       "      <td>2.216203</td>\n",
       "      <td>-1.553743</td>\n",
       "      <td>-1.493267</td>\n",
       "      <td>1.283472</td>\n",
       "      <td>-2.220618</td>\n",
       "      <td>2.014709</td>\n",
       "      <td>1.473112</td>\n",
       "    </tr>\n",
       "    <tr>\n",
       "      <th>2</th>\n",
       "      <td>2.039727</td>\n",
       "      <td>5.742021</td>\n",
       "      <td>1.779649</td>\n",
       "      <td>-0.778184</td>\n",
       "      <td>0.626251</td>\n",
       "      <td>2.960267</td>\n",
       "      <td>0.665691</td>\n",
       "      <td>-3.836537</td>\n",
       "      <td>-6.219514</td>\n",
       "      <td>2.582316</td>\n",
       "      <td>-1.755101</td>\n",
       "      <td>-2.069357</td>\n",
       "      <td>0.051983</td>\n",
       "      <td>-1.403610</td>\n",
       "      <td>1.889674</td>\n",
       "      <td>1.417142</td>\n",
       "    </tr>\n",
       "    <tr>\n",
       "      <th>3</th>\n",
       "      <td>0.427950</td>\n",
       "      <td>5.038826</td>\n",
       "      <td>-0.525146</td>\n",
       "      <td>0.297044</td>\n",
       "      <td>0.244097</td>\n",
       "      <td>4.179019</td>\n",
       "      <td>-1.175133</td>\n",
       "      <td>-2.705312</td>\n",
       "      <td>-6.222509</td>\n",
       "      <td>2.554939</td>\n",
       "      <td>-2.917204</td>\n",
       "      <td>-2.042484</td>\n",
       "      <td>3.667394</td>\n",
       "      <td>-3.252817</td>\n",
       "      <td>3.932580</td>\n",
       "      <td>0.489341</td>\n",
       "    </tr>\n",
       "    <tr>\n",
       "      <th>4</th>\n",
       "      <td>2.620618</td>\n",
       "      <td>3.577219</td>\n",
       "      <td>1.677672</td>\n",
       "      <td>-2.125142</td>\n",
       "      <td>0.323207</td>\n",
       "      <td>1.580976</td>\n",
       "      <td>-0.752538</td>\n",
       "      <td>-1.399487</td>\n",
       "      <td>-2.606880</td>\n",
       "      <td>2.396419</td>\n",
       "      <td>-2.341159</td>\n",
       "      <td>-3.006851</td>\n",
       "      <td>-1.986802</td>\n",
       "      <td>1.201752</td>\n",
       "      <td>1.802882</td>\n",
       "      <td>-0.367803</td>\n",
       "    </tr>\n",
       "  </tbody>\n",
       "</table>\n",
       "</div>"
      ],
      "text/plain": [
       "         0         1         2         3         4         5         6   \\\n",
       "0  0.557290  3.849298 -0.255535 -0.031354  0.187017  3.105329 -1.002679   \n",
       "1  1.249099  5.255781  1.070986 -0.094205  0.530503  3.088839  0.566003   \n",
       "2  2.039727  5.742021  1.779649 -0.778184  0.626251  2.960267  0.665691   \n",
       "3  0.427950  5.038826 -0.525146  0.297044  0.244097  4.179019 -1.175133   \n",
       "4  2.620618  3.577219  1.677672 -2.125142  0.323207  1.580976 -0.752538   \n",
       "\n",
       "         7         8         9         10        11        12        13  \\\n",
       "0 -1.950895 -4.553694  2.051441 -2.356892 -1.790565  2.406195 -2.132966   \n",
       "1 -3.638465 -6.171984  2.216203 -1.553743 -1.493267  1.283472 -2.220618   \n",
       "2 -3.836537 -6.219514  2.582316 -1.755101 -2.069357  0.051983 -1.403610   \n",
       "3 -2.705312 -6.222509  2.554939 -2.917204 -2.042484  3.667394 -3.252817   \n",
       "4 -1.399487 -2.606880  2.396419 -2.341159 -3.006851 -1.986802  1.201752   \n",
       "\n",
       "         14        15  \n",
       "0  3.017747  0.225075  \n",
       "1  2.014709  1.473112  \n",
       "2  1.889674  1.417142  \n",
       "3  3.932580  0.489341  \n",
       "4  1.802882 -0.367803  "
      ]
     },
     "execution_count": 6,
     "metadata": {},
     "output_type": "execute_result"
    }
   ],
   "source": [
    "result = pd.DataFrame(data.T)\n",
    "result.head()"
   ]
  },
  {
   "cell_type": "code",
   "execution_count": 7,
   "metadata": {},
   "outputs": [],
   "source": [
    "result.to_csv(\"newresult.csv\")"
   ]
  },
  {
   "cell_type": "code",
   "execution_count": 8,
   "metadata": {},
   "outputs": [],
   "source": [
    "label = pd.DataFrame(comb)\n",
    "label.columns = ['one','two','three']\n",
    "label['func'] = np.sin(label['one']*label['two']) + label['three']**3\n",
    "\n",
    "\n",
    "#label.apply(lambda x: np.sin(x['one']*x['two']) + x['three']**3)"
   ]
  },
  {
   "cell_type": "code",
   "execution_count": 9,
   "metadata": {},
   "outputs": [],
   "source": [
    "label.to_csv('newlabel.csv')"
   ]
  },
  {
   "cell_type": "code",
   "execution_count": 10,
   "metadata": {},
   "outputs": [
    {
     "name": "stdout",
     "output_type": "stream",
     "text": [
      "0.4130816616666104\n"
     ]
    }
   ],
   "source": [
    "print(np.sin(0.532833*0.534137) + 0.509553**3)"
   ]
  },
  {
   "cell_type": "code",
   "execution_count": 11,
   "metadata": {},
   "outputs": [
    {
     "data": {
      "text/plain": [
       "1000.2588709298699"
      ]
     },
     "execution_count": 11,
     "metadata": {},
     "output_type": "execute_result"
    }
   ],
   "source": [
    "label['func'].max()"
   ]
  },
  {
   "cell_type": "code",
   "execution_count": 12,
   "metadata": {},
   "outputs": [
    {
     "data": {
      "text/plain": [
       "-0.9988388450000579"
      ]
     },
     "execution_count": 12,
     "metadata": {},
     "output_type": "execute_result"
    }
   ],
   "source": [
    "label['func'].min()"
   ]
  },
  {
   "cell_type": "code",
   "execution_count": 13,
   "metadata": {},
   "outputs": [
    {
     "data": {
      "text/plain": [
       "3.1329000000000002"
      ]
     },
     "execution_count": 13,
     "metadata": {},
     "output_type": "execute_result"
    }
   ],
   "source": [
    "1.77**2"
   ]
  },
  {
   "cell_type": "code",
   "execution_count": 14,
   "metadata": {},
   "outputs": [
    {
     "data": {
      "text/plain": [
       "0.282842712474619"
      ]
     },
     "execution_count": 14,
     "metadata": {},
     "output_type": "execute_result"
    }
   ],
   "source": [
    "0.08**0.5\n"
   ]
  },
  {
   "cell_type": "code",
   "execution_count": 15,
   "metadata": {},
   "outputs": [
    {
     "data": {
      "text/plain": [
       "0.15819209039548024"
      ]
     },
     "execution_count": 15,
     "metadata": {},
     "output_type": "execute_result"
    }
   ],
   "source": [
    "0.28/1.77"
   ]
  },
  {
   "cell_type": "code",
   "execution_count": null,
   "metadata": {},
   "outputs": [],
   "source": []
  }
 ],
 "metadata": {
  "interpreter": {
   "hash": "b09ec625f77bf4fd762565a912b97636504ad6ec901eb2d0f4cf5a7de23e1ee5"
  },
  "kernelspec": {
   "display_name": "Python 3.9.7 ('base')",
   "language": "python",
   "name": "python3"
  },
  "language_info": {
   "codemirror_mode": {
    "name": "ipython",
    "version": 3
   },
   "file_extension": ".py",
   "mimetype": "text/x-python",
   "name": "python",
   "nbconvert_exporter": "python",
   "pygments_lexer": "ipython3",
   "version": "3.9.7"
  },
  "orig_nbformat": 4
 },
 "nbformat": 4,
 "nbformat_minor": 2
}
